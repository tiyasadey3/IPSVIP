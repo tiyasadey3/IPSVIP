{
  "nbformat": 4,
  "nbformat_minor": 0,
  "metadata": {
    "colab": {
      "name": "Fake_News_Detection_Project_Tiyasa_Dey.ipynb",
      "provenance": [],
      "authorship_tag": "ABX9TyN10Jpr1D3I7joMdZiLXGMh",
      "include_colab_link": true
    },
    "kernelspec": {
      "name": "python3",
      "display_name": "Python 3"
    },
    "language_info": {
      "name": "python"
    }
  },
  "cells": [
    {
      "cell_type": "markdown",
      "metadata": {
        "id": "view-in-github",
        "colab_type": "text"
      },
      "source": [
        "<a href=\"https://colab.research.google.com/github/tiyasadey3/IPSVIP/blob/main/Fake_News_Detection_Project_Tiyasa_Dey.ipynb\" target=\"_parent\"><img src=\"https://colab.research.google.com/assets/colab-badge.svg\" alt=\"Open In Colab\"/></a>"
      ]
    },
    {
      "cell_type": "markdown",
      "metadata": {
        "id": "W3u8OHtcpuJz"
      },
      "source": [
        "## **InfoPillar Solution Pvt Ltd**"
      ]
    },
    {
      "cell_type": "markdown",
      "metadata": {
        "id": "e9y2Lekfp2xY"
      },
      "source": [
        "## **IPS Remote Internship**"
      ]
    },
    {
      "cell_type": "markdown",
      "metadata": {
        "id": "Y_Qy6v9yp4R3"
      },
      "source": [
        "## **Task - 2 : Fake News Detection Project**\n",
        "\n",
        "\n",
        "\n"
      ]
    },
    {
      "cell_type": "markdown",
      "metadata": {
        "id": "PNL26ZQpqwUA"
      },
      "source": [
        "### **Project idea – Fake news spreads like a wildfire and this is a big issue in this era.**\n"
      ]
    },
    {
      "cell_type": "markdown",
      "metadata": {
        "id": "sEORdUE5qT4Q"
      },
      "source": [
        "## **AUTHOR : TIYASA DEY**"
      ]
    },
    {
      "cell_type": "markdown",
      "metadata": {
        "id": "qPPfVe5XqMWB"
      },
      "source": [
        "## **Dataset:**"
      ]
    },
    {
      "cell_type": "markdown",
      "metadata": {
        "id": "9IBG9JlCqFrg"
      },
      "source": [
        "### **https://bit.ly/3FxCSC4**"
      ]
    },
    {
      "cell_type": "markdown",
      "metadata": {
        "id": "-Gm37w9lqouw"
      },
      "source": [
        "## **Importing required libraries**"
      ]
    },
    {
      "cell_type": "code",
      "metadata": {
        "id": "aiJ5UuTHViFv"
      },
      "source": [
        "import numpy as np\n",
        "import pandas as pd\n",
        "import re\n",
        "from nltk.corpus import stopwords\n",
        "from nltk.stem.porter import PorterStemmer\n",
        "from sklearn.feature_extraction.text import TfidfVectorizer\n",
        "from sklearn.model_selection import train_test_split\n",
        "from sklearn.linear_model import LogisticRegression\n",
        "from sklearn.metrics import accuracy_score"
      ],
      "execution_count": 29,
      "outputs": []
    },
    {
      "cell_type": "code",
      "metadata": {
        "colab": {
          "base_uri": "https://localhost:8080/"
        },
        "id": "rxn7yQY7Wvmo",
        "outputId": "a9f60b8f-15d9-458e-aa6b-b425bc3660ff"
      },
      "source": [
        "import nltk\n",
        "nltk.download('stopwords')"
      ],
      "execution_count": 30,
      "outputs": [
        {
          "output_type": "stream",
          "name": "stdout",
          "text": [
            "[nltk_data] Downloading package stopwords to /root/nltk_data...\n",
            "[nltk_data]   Package stopwords is already up-to-date!\n"
          ]
        },
        {
          "output_type": "execute_result",
          "data": {
            "text/plain": [
              "True"
            ]
          },
          "metadata": {},
          "execution_count": 30
        }
      ]
    },
    {
      "cell_type": "code",
      "metadata": {
        "colab": {
          "base_uri": "https://localhost:8080/"
        },
        "id": "i_1yHGv6X0Rj",
        "outputId": "9d131260-d006-4bdc-c7ba-a8d705d37671"
      },
      "source": [
        "# printing the stopwords in English\n",
        "print(stopwords.words('english'))"
      ],
      "execution_count": 31,
      "outputs": [
        {
          "output_type": "stream",
          "name": "stdout",
          "text": [
            "['i', 'me', 'my', 'myself', 'we', 'our', 'ours', 'ourselves', 'you', \"you're\", \"you've\", \"you'll\", \"you'd\", 'your', 'yours', 'yourself', 'yourselves', 'he', 'him', 'his', 'himself', 'she', \"she's\", 'her', 'hers', 'herself', 'it', \"it's\", 'its', 'itself', 'they', 'them', 'their', 'theirs', 'themselves', 'what', 'which', 'who', 'whom', 'this', 'that', \"that'll\", 'these', 'those', 'am', 'is', 'are', 'was', 'were', 'be', 'been', 'being', 'have', 'has', 'had', 'having', 'do', 'does', 'did', 'doing', 'a', 'an', 'the', 'and', 'but', 'if', 'or', 'because', 'as', 'until', 'while', 'of', 'at', 'by', 'for', 'with', 'about', 'against', 'between', 'into', 'through', 'during', 'before', 'after', 'above', 'below', 'to', 'from', 'up', 'down', 'in', 'out', 'on', 'off', 'over', 'under', 'again', 'further', 'then', 'once', 'here', 'there', 'when', 'where', 'why', 'how', 'all', 'any', 'both', 'each', 'few', 'more', 'most', 'other', 'some', 'such', 'no', 'nor', 'not', 'only', 'own', 'same', 'so', 'than', 'too', 'very', 's', 't', 'can', 'will', 'just', 'don', \"don't\", 'should', \"should've\", 'now', 'd', 'll', 'm', 'o', 're', 've', 'y', 'ain', 'aren', \"aren't\", 'couldn', \"couldn't\", 'didn', \"didn't\", 'doesn', \"doesn't\", 'hadn', \"hadn't\", 'hasn', \"hasn't\", 'haven', \"haven't\", 'isn', \"isn't\", 'ma', 'mightn', \"mightn't\", 'mustn', \"mustn't\", 'needn', \"needn't\", 'shan', \"shan't\", 'shouldn', \"shouldn't\", 'wasn', \"wasn't\", 'weren', \"weren't\", 'won', \"won't\", 'wouldn', \"wouldn't\"]\n"
          ]
        }
      ]
    },
    {
      "cell_type": "markdown",
      "metadata": {
        "id": "1k3fprsLYGlx"
      },
      "source": [
        "## **Data Pre-processing**"
      ]
    },
    {
      "cell_type": "code",
      "metadata": {
        "id": "4dHBVvYvYAS_"
      },
      "source": [
        "# loading the dataset to a pandas DataFrame\n",
        "news_df = pd.read_csv('/content/news.csv')"
      ],
      "execution_count": 32,
      "outputs": []
    },
    {
      "cell_type": "code",
      "metadata": {
        "colab": {
          "base_uri": "https://localhost:8080/"
        },
        "id": "bYLYrqYYYBFp",
        "outputId": "45790305-7cc5-4dcc-a968-da72f72daea7"
      },
      "source": [
        "news_df.shape"
      ],
      "execution_count": 33,
      "outputs": [
        {
          "output_type": "execute_result",
          "data": {
            "text/plain": [
              "(6335, 4)"
            ]
          },
          "metadata": {},
          "execution_count": 33
        }
      ]
    },
    {
      "cell_type": "code",
      "metadata": {
        "colab": {
          "base_uri": "https://localhost:8080/",
          "height": 206
        },
        "id": "o4iR3YboYjMA",
        "outputId": "56391a0c-7015-4cf5-dc94-cb2fa3fcfea6"
      },
      "source": [
        "# print the first 5 rows of the dataframe\n",
        "news_df.head()"
      ],
      "execution_count": 34,
      "outputs": [
        {
          "output_type": "execute_result",
          "data": {
            "text/html": [
              "<div>\n",
              "<style scoped>\n",
              "    .dataframe tbody tr th:only-of-type {\n",
              "        vertical-align: middle;\n",
              "    }\n",
              "\n",
              "    .dataframe tbody tr th {\n",
              "        vertical-align: top;\n",
              "    }\n",
              "\n",
              "    .dataframe thead th {\n",
              "        text-align: right;\n",
              "    }\n",
              "</style>\n",
              "<table border=\"1\" class=\"dataframe\">\n",
              "  <thead>\n",
              "    <tr style=\"text-align: right;\">\n",
              "      <th></th>\n",
              "      <th>Unnamed: 0</th>\n",
              "      <th>title</th>\n",
              "      <th>text</th>\n",
              "      <th>label</th>\n",
              "    </tr>\n",
              "  </thead>\n",
              "  <tbody>\n",
              "    <tr>\n",
              "      <th>0</th>\n",
              "      <td>8476</td>\n",
              "      <td>You Can Smell Hillary’s Fear</td>\n",
              "      <td>Daniel Greenfield, a Shillman Journalism Fello...</td>\n",
              "      <td>FAKE</td>\n",
              "    </tr>\n",
              "    <tr>\n",
              "      <th>1</th>\n",
              "      <td>10294</td>\n",
              "      <td>Watch The Exact Moment Paul Ryan Committed Pol...</td>\n",
              "      <td>Google Pinterest Digg Linkedin Reddit Stumbleu...</td>\n",
              "      <td>FAKE</td>\n",
              "    </tr>\n",
              "    <tr>\n",
              "      <th>2</th>\n",
              "      <td>3608</td>\n",
              "      <td>Kerry to go to Paris in gesture of sympathy</td>\n",
              "      <td>U.S. Secretary of State John F. Kerry said Mon...</td>\n",
              "      <td>REAL</td>\n",
              "    </tr>\n",
              "    <tr>\n",
              "      <th>3</th>\n",
              "      <td>10142</td>\n",
              "      <td>Bernie supporters on Twitter erupt in anger ag...</td>\n",
              "      <td>— Kaydee King (@KaydeeKing) November 9, 2016 T...</td>\n",
              "      <td>FAKE</td>\n",
              "    </tr>\n",
              "    <tr>\n",
              "      <th>4</th>\n",
              "      <td>875</td>\n",
              "      <td>The Battle of New York: Why This Primary Matters</td>\n",
              "      <td>It's primary day in New York and front-runners...</td>\n",
              "      <td>REAL</td>\n",
              "    </tr>\n",
              "  </tbody>\n",
              "</table>\n",
              "</div>"
            ],
            "text/plain": [
              "   Unnamed: 0  ... label\n",
              "0        8476  ...  FAKE\n",
              "1       10294  ...  FAKE\n",
              "2        3608  ...  REAL\n",
              "3       10142  ...  FAKE\n",
              "4         875  ...  REAL\n",
              "\n",
              "[5 rows x 4 columns]"
            ]
          },
          "metadata": {},
          "execution_count": 34
        }
      ]
    },
    {
      "cell_type": "markdown",
      "metadata": {
        "id": "U-Zvh-ezd0wu"
      },
      "source": [
        "## **Encoding level**"
      ]
    },
    {
      "cell_type": "code",
      "metadata": {
        "colab": {
          "base_uri": "https://localhost:8080/",
          "height": 206
        },
        "id": "WlTxpRqBc5og",
        "outputId": "48765e5b-6748-4a1a-d29b-13f202f6ff22"
      },
      "source": [
        "label = {\"REAL\": 0, \"FAKE\": 1}\n",
        "news_df['label'] = news_df['label'].map(label)\n",
        "news_df.head()"
      ],
      "execution_count": 35,
      "outputs": [
        {
          "output_type": "execute_result",
          "data": {
            "text/html": [
              "<div>\n",
              "<style scoped>\n",
              "    .dataframe tbody tr th:only-of-type {\n",
              "        vertical-align: middle;\n",
              "    }\n",
              "\n",
              "    .dataframe tbody tr th {\n",
              "        vertical-align: top;\n",
              "    }\n",
              "\n",
              "    .dataframe thead th {\n",
              "        text-align: right;\n",
              "    }\n",
              "</style>\n",
              "<table border=\"1\" class=\"dataframe\">\n",
              "  <thead>\n",
              "    <tr style=\"text-align: right;\">\n",
              "      <th></th>\n",
              "      <th>Unnamed: 0</th>\n",
              "      <th>title</th>\n",
              "      <th>text</th>\n",
              "      <th>label</th>\n",
              "    </tr>\n",
              "  </thead>\n",
              "  <tbody>\n",
              "    <tr>\n",
              "      <th>0</th>\n",
              "      <td>8476</td>\n",
              "      <td>You Can Smell Hillary’s Fear</td>\n",
              "      <td>Daniel Greenfield, a Shillman Journalism Fello...</td>\n",
              "      <td>1</td>\n",
              "    </tr>\n",
              "    <tr>\n",
              "      <th>1</th>\n",
              "      <td>10294</td>\n",
              "      <td>Watch The Exact Moment Paul Ryan Committed Pol...</td>\n",
              "      <td>Google Pinterest Digg Linkedin Reddit Stumbleu...</td>\n",
              "      <td>1</td>\n",
              "    </tr>\n",
              "    <tr>\n",
              "      <th>2</th>\n",
              "      <td>3608</td>\n",
              "      <td>Kerry to go to Paris in gesture of sympathy</td>\n",
              "      <td>U.S. Secretary of State John F. Kerry said Mon...</td>\n",
              "      <td>0</td>\n",
              "    </tr>\n",
              "    <tr>\n",
              "      <th>3</th>\n",
              "      <td>10142</td>\n",
              "      <td>Bernie supporters on Twitter erupt in anger ag...</td>\n",
              "      <td>— Kaydee King (@KaydeeKing) November 9, 2016 T...</td>\n",
              "      <td>1</td>\n",
              "    </tr>\n",
              "    <tr>\n",
              "      <th>4</th>\n",
              "      <td>875</td>\n",
              "      <td>The Battle of New York: Why This Primary Matters</td>\n",
              "      <td>It's primary day in New York and front-runners...</td>\n",
              "      <td>0</td>\n",
              "    </tr>\n",
              "  </tbody>\n",
              "</table>\n",
              "</div>"
            ],
            "text/plain": [
              "   Unnamed: 0  ... label\n",
              "0        8476  ...     1\n",
              "1       10294  ...     1\n",
              "2        3608  ...     0\n",
              "3       10142  ...     1\n",
              "4         875  ...     0\n",
              "\n",
              "[5 rows x 4 columns]"
            ]
          },
          "metadata": {},
          "execution_count": 35
        }
      ]
    },
    {
      "cell_type": "markdown",
      "metadata": {
        "id": "NDRjrAdPeXXO"
      },
      "source": [
        "### **counting the number of missing values in the dataset**"
      ]
    },
    {
      "cell_type": "code",
      "metadata": {
        "colab": {
          "base_uri": "https://localhost:8080/"
        },
        "id": "BKYrrxl-Yq3u",
        "outputId": "1e9c03ab-b5f7-4ee9-b850-3dd7949b4f3b"
      },
      "source": [
        "news_df.isnull().sum()"
      ],
      "execution_count": 36,
      "outputs": [
        {
          "output_type": "execute_result",
          "data": {
            "text/plain": [
              "Unnamed: 0    0\n",
              "title         0\n",
              "text          0\n",
              "label         0\n",
              "dtype: int64"
            ]
          },
          "metadata": {},
          "execution_count": 36
        }
      ]
    },
    {
      "cell_type": "markdown",
      "metadata": {
        "id": "vJx0mtp-ejOY"
      },
      "source": [
        "### **Stemming:**"
      ]
    },
    {
      "cell_type": "code",
      "metadata": {
        "id": "FJQXmEI7Y5vC"
      },
      "source": [
        "port_stem = PorterStemmer()"
      ],
      "execution_count": 37,
      "outputs": []
    },
    {
      "cell_type": "code",
      "metadata": {
        "id": "1jIpcKdGZHjL"
      },
      "source": [
        "def stemming(title):\n",
        "    stemmed_title = re.sub('[^a-zA-Z]',' ',title)\n",
        "    stemmed_title = stemmed_title.lower()\n",
        "    stemmed_title = stemmed_title.split()\n",
        "    stemmed_title = [port_stem.stem(word) for word in stemmed_title if not word in stopwords.words('english')]\n",
        "    stemmed_title = ' '.join(stemmed_title)\n",
        "    return stemmed_title"
      ],
      "execution_count": 38,
      "outputs": []
    },
    {
      "cell_type": "code",
      "metadata": {
        "id": "_j7ZtbMWZLhg"
      },
      "source": [
        "news_df['title'] = news_df['title'].apply(stemming)"
      ],
      "execution_count": 39,
      "outputs": []
    },
    {
      "cell_type": "code",
      "metadata": {
        "id": "MhCUH7HsZS9H",
        "colab": {
          "base_uri": "https://localhost:8080/"
        },
        "outputId": "fb833502-db33-4016-83cd-b68e2a294f45"
      },
      "source": [
        "print(news_df['title'])"
      ],
      "execution_count": 40,
      "outputs": [
        {
          "output_type": "stream",
          "name": "stdout",
          "text": [
            "0                                      smell hillari fear\n",
            "1       watch exact moment paul ryan commit polit suic...\n",
            "2                           kerri go pari gestur sympathi\n",
            "3          berni support twitter erupt anger dnc tri warn\n",
            "4                           battl new york primari matter\n",
            "                              ...                        \n",
            "6330       state depart say find email clinton specialist\n",
            "6331                        p pb stand plutocrat pentagon\n",
            "6332             anti trump protest tool oligarchi inform\n",
            "6333    ethiopia obama seek progress peac secur east a...\n",
            "6334                jeb bush suddenli attack trump matter\n",
            "Name: title, Length: 6335, dtype: object\n"
          ]
        }
      ]
    },
    {
      "cell_type": "markdown",
      "metadata": {
        "id": "5QiSJf2jfh8Y"
      },
      "source": [
        "### **separating the data & label**"
      ]
    },
    {
      "cell_type": "code",
      "metadata": {
        "id": "clCGCNhxeuaW"
      },
      "source": [
        "X = news_df.drop(columns='label', axis=1)\n",
        "Y = news_df['label']"
      ],
      "execution_count": 41,
      "outputs": []
    },
    {
      "cell_type": "code",
      "metadata": {
        "colab": {
          "base_uri": "https://localhost:8080/"
        },
        "id": "BfV43gOffmqm",
        "outputId": "7e01a6c7-369d-478a-baf3-42e8a31f7a8d"
      },
      "source": [
        "print(X)\n",
        "print(Y)"
      ],
      "execution_count": 42,
      "outputs": [
        {
          "output_type": "stream",
          "name": "stdout",
          "text": [
            "      Unnamed: 0  ...                                               text\n",
            "0           8476  ...  Daniel Greenfield, a Shillman Journalism Fello...\n",
            "1          10294  ...  Google Pinterest Digg Linkedin Reddit Stumbleu...\n",
            "2           3608  ...  U.S. Secretary of State John F. Kerry said Mon...\n",
            "3          10142  ...  — Kaydee King (@KaydeeKing) November 9, 2016 T...\n",
            "4            875  ...  It's primary day in New York and front-runners...\n",
            "...          ...  ...                                                ...\n",
            "6330        4490  ...  The State Department told the Republican Natio...\n",
            "6331        8062  ...  The ‘P’ in PBS Should Stand for ‘Plutocratic’ ...\n",
            "6332        8622  ...   Anti-Trump Protesters Are Tools of the Oligar...\n",
            "6333        4021  ...  ADDIS ABABA, Ethiopia —President Obama convene...\n",
            "6334        4330  ...  Jeb Bush Is Suddenly Attacking Trump. Here's W...\n",
            "\n",
            "[6335 rows x 3 columns]\n",
            "0       1\n",
            "1       1\n",
            "2       0\n",
            "3       1\n",
            "4       0\n",
            "       ..\n",
            "6330    0\n",
            "6331    1\n",
            "6332    1\n",
            "6333    0\n",
            "6334    0\n",
            "Name: label, Length: 6335, dtype: int64\n"
          ]
        }
      ]
    },
    {
      "cell_type": "code",
      "metadata": {
        "id": "ge0pOoSJfpVl"
      },
      "source": [
        "X = news_df['title'].values\n",
        "Y = news_df['label'].values"
      ],
      "execution_count": 43,
      "outputs": []
    },
    {
      "cell_type": "code",
      "metadata": {
        "colab": {
          "base_uri": "https://localhost:8080/"
        },
        "id": "R4wTLwk9gGQL",
        "outputId": "1bc7ffae-9057-4929-dbb9-f08f8d42724e"
      },
      "source": [
        "print(X)"
      ],
      "execution_count": 44,
      "outputs": [
        {
          "output_type": "stream",
          "name": "stdout",
          "text": [
            "['smell hillari fear'\n",
            " 'watch exact moment paul ryan commit polit suicid trump ralli video'\n",
            " 'kerri go pari gestur sympathi' ...\n",
            " 'anti trump protest tool oligarchi inform'\n",
            " 'ethiopia obama seek progress peac secur east africa'\n",
            " 'jeb bush suddenli attack trump matter']\n"
          ]
        }
      ]
    },
    {
      "cell_type": "code",
      "metadata": {
        "colab": {
          "base_uri": "https://localhost:8080/"
        },
        "id": "MhMcLi-hgWQL",
        "outputId": "9bd8394e-18b2-4078-d19c-046fd7b14ba4"
      },
      "source": [
        "print(Y)"
      ],
      "execution_count": 45,
      "outputs": [
        {
          "output_type": "stream",
          "name": "stdout",
          "text": [
            "[1 1 0 ... 1 0 0]\n"
          ]
        }
      ]
    },
    {
      "cell_type": "markdown",
      "metadata": {
        "id": "Q-wS4kSPgg04"
      },
      "source": [
        "### **converting the textual data to numerical data**"
      ]
    },
    {
      "cell_type": "code",
      "metadata": {
        "id": "5iyjw5BOgZbX"
      },
      "source": [
        "vectorizer = TfidfVectorizer()\n",
        "vectorizer.fit(X)\n",
        "\n",
        "X = vectorizer.transform(X)"
      ],
      "execution_count": 46,
      "outputs": []
    },
    {
      "cell_type": "code",
      "metadata": {
        "colab": {
          "base_uri": "https://localhost:8080/"
        },
        "id": "-mvVlRdFhIeL",
        "outputId": "b2623052-7134-4e6a-f84d-89aa287021d4"
      },
      "source": [
        "print(X)"
      ],
      "execution_count": 47,
      "outputs": [
        {
          "output_type": "stream",
          "name": "stdout",
          "text": [
            "  (0, 5631)\t0.7649346276717717\n",
            "  (0, 2817)\t0.31703295849951846\n",
            "  (0, 2230)\t0.5606827254461214\n",
            "  (1, 6671)\t0.27855534550881683\n",
            "  (1, 6571)\t0.21736822482437437\n",
            "  (1, 6315)\t0.13561903129801023\n",
            "  (1, 5933)\t0.3501812302002013\n",
            "  (1, 5263)\t0.29163264316148546\n",
            "  (1, 4905)\t0.29382045650093463\n",
            "  (1, 4630)\t0.24403179029804972\n",
            "  (1, 4462)\t0.26757273402295384\n",
            "  (1, 3939)\t0.3279355637571237\n",
            "  (1, 2101)\t0.44595444447238664\n",
            "  (1, 1212)\t0.3538286538491304\n",
            "  (2, 6015)\t0.5345737509664292\n",
            "  (2, 4428)\t0.37615749278439464\n",
            "  (2, 3335)\t0.41740393299177314\n",
            "  (2, 2576)\t0.3357697230253524\n",
            "  (2, 2536)\t0.5345737509664292\n",
            "  (3, 6658)\t0.3169347988352881\n",
            "  (3, 6359)\t0.3719244073533966\n",
            "  (3, 6288)\t0.31487349957846533\n",
            "  (3, 5956)\t0.2780361491213491\n",
            "  (3, 2048)\t0.44483942568507917\n",
            "  (3, 1764)\t0.35074544989300727\n",
            "  :\t:\n",
            "  (6330, 1133)\t0.2086414599045263\n",
            "  (6331, 5796)\t0.38445288563338503\n",
            "  (6331, 4611)\t0.5530926787707366\n",
            "  (6331, 4493)\t0.45939150101458504\n",
            "  (6331, 4474)\t0.5790025183139886\n",
            "  (6332, 6315)\t0.177445191694796\n",
            "  (6332, 6213)\t0.5388543882104704\n",
            "  (6332, 4797)\t0.3475689418147302\n",
            "  (6332, 4270)\t0.5127436972273209\n",
            "  (6332, 3055)\t0.40296322598470885\n",
            "  (6332, 240)\t0.36339994825833366\n",
            "  (6333, 5399)\t0.33359399099990117\n",
            "  (6333, 5396)\t0.3167968586319597\n",
            "  (6333, 4771)\t0.36465705907770063\n",
            "  (6333, 4477)\t0.36465705907770063\n",
            "  (6333, 4225)\t0.1993437849607953\n",
            "  (6333, 2065)\t0.4254113906118226\n",
            "  (6333, 1894)\t0.37550259234898764\n",
            "  (6333, 97)\t0.40086190307098823\n",
            "  (6334, 6315)\t0.1943781508679834\n",
            "  (6334, 5926)\t0.5902753327213516\n",
            "  (6334, 3760)\t0.4278462554978103\n",
            "  (6334, 3210)\t0.4041108135061054\n",
            "  (6334, 852)\t0.3798375641932667\n",
            "  (6334, 368)\t0.35093820387285196\n"
          ]
        }
      ]
    },
    {
      "cell_type": "markdown",
      "metadata": {
        "id": "OzWWlmOjhcWY"
      },
      "source": [
        "### **Splitting the dataset to training & test data**\n",
        "\n"
      ]
    },
    {
      "cell_type": "code",
      "metadata": {
        "id": "bzADS0PqhLVh"
      },
      "source": [
        "X_train, X_test, Y_train, Y_test = train_test_split(X, Y, test_size = 0.15, stratify=Y, random_state=2)"
      ],
      "execution_count": 20,
      "outputs": []
    },
    {
      "cell_type": "markdown",
      "metadata": {
        "id": "c2Wy6OQ_hqYI"
      },
      "source": [
        "## **Training the Model: Logistic Regression**"
      ]
    },
    {
      "cell_type": "code",
      "metadata": {
        "id": "sCHOzOPMhl16"
      },
      "source": [
        "model = LogisticRegression()"
      ],
      "execution_count": 21,
      "outputs": []
    },
    {
      "cell_type": "code",
      "metadata": {
        "colab": {
          "base_uri": "https://localhost:8080/"
        },
        "id": "pI__eleJhvM-",
        "outputId": "738b42a1-e5fa-4fc2-f4ae-6180444da0c1"
      },
      "source": [
        "model.fit(X_train, Y_train)"
      ],
      "execution_count": 48,
      "outputs": [
        {
          "output_type": "execute_result",
          "data": {
            "text/plain": [
              "LogisticRegression()"
            ]
          },
          "metadata": {},
          "execution_count": 48
        }
      ]
    },
    {
      "cell_type": "markdown",
      "metadata": {
        "id": "ihYjWbe_n5NH"
      },
      "source": [
        "## **Accuracy score**"
      ]
    },
    {
      "cell_type": "code",
      "metadata": {
        "id": "xfZg5z8AhzEK"
      },
      "source": [
        "# accuracy score on the training data\n",
        "X_train_predict = model.predict(X_train)\n",
        "training_accuracy = accuracy_score(X_train_predict, Y_train)"
      ],
      "execution_count": 49,
      "outputs": []
    },
    {
      "cell_type": "code",
      "metadata": {
        "colab": {
          "base_uri": "https://localhost:8080/"
        },
        "id": "A0lwNYAljbjn",
        "outputId": "00a39526-8da1-497c-8d9b-4071fb5a6a5a"
      },
      "source": [
        "print('Accuracy score of the training data : ', training_accuracy)"
      ],
      "execution_count": 50,
      "outputs": [
        {
          "output_type": "stream",
          "name": "stdout",
          "text": [
            "Accuracy score of the training data :  0.9112184249628529\n"
          ]
        }
      ]
    },
    {
      "cell_type": "code",
      "metadata": {
        "id": "yYmBNHToke_9"
      },
      "source": [
        "# accuracy score on the test data\n",
        "X_test_predict = model.predict(X_test)\n",
        "test_accuracy = accuracy_score(X_test_predict, Y_test)"
      ],
      "execution_count": 51,
      "outputs": []
    },
    {
      "cell_type": "code",
      "metadata": {
        "colab": {
          "base_uri": "https://localhost:8080/"
        },
        "id": "qOGc1P3sktTX",
        "outputId": "44f22f04-476a-46cd-89b0-320b0c6a5954"
      },
      "source": [
        "print('Accuracy score of the test data : ', test_accuracy)"
      ],
      "execution_count": 52,
      "outputs": [
        {
          "output_type": "stream",
          "name": "stdout",
          "text": [
            "Accuracy score of the test data :  0.8023133543638276\n"
          ]
        }
      ]
    },
    {
      "cell_type": "markdown",
      "metadata": {
        "id": "AnjExyMOnwuI"
      },
      "source": [
        "## **Making a Predictive System**"
      ]
    },
    {
      "cell_type": "code",
      "metadata": {
        "colab": {
          "base_uri": "https://localhost:8080/"
        },
        "id": "REeyKux9kxy_",
        "outputId": "f7140315-1962-4997-d80b-a68e5c4bce43"
      },
      "source": [
        "X_new = X_test[2]\n",
        "\n",
        "pred = model.predict(X_new)\n",
        "print(pred)\n",
        "\n",
        "if (pred[0]==0):\n",
        "  print('The news is Real')\n",
        "else:\n",
        "  print('The news is Fake')"
      ],
      "execution_count": 53,
      "outputs": [
        {
          "output_type": "stream",
          "name": "stdout",
          "text": [
            "[0]\n",
            "The news is Real\n"
          ]
        }
      ]
    },
    {
      "cell_type": "code",
      "metadata": {
        "colab": {
          "base_uri": "https://localhost:8080/"
        },
        "id": "S4VsDa9vl6Rg",
        "outputId": "28daee22-b322-46f2-ad03-6a1a20c9522b"
      },
      "source": [
        "print(Y_test[3])\n"
      ],
      "execution_count": 54,
      "outputs": [
        {
          "output_type": "stream",
          "name": "stdout",
          "text": [
            "1\n"
          ]
        }
      ]
    },
    {
      "cell_type": "markdown",
      "metadata": {
        "id": "b6YkNisUmy4J"
      },
      "source": [
        "### **The accuracy score of Fake news detection model that we built using Logistic Regression algorithm is 80.23%.**"
      ]
    }
  ]
}